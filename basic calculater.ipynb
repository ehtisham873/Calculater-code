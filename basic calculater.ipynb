{
 "cells": [
  {
   "cell_type": "markdown",
   "id": "960f30ad",
   "metadata": {},
   "source": [
    "basic calculation calculater using python."
   ]
  },
  {
   "cell_type": "code",
   "execution_count": 3,
   "id": "285e2adf",
   "metadata": {},
   "outputs": [
    {
     "name": "stdout",
     "output_type": "stream",
     "text": [
      "Addition = 56\n",
      "Multiplication = 423\n",
      "Division = 0.19148936170212766\n",
      "Subtract = -38\n"
     ]
    }
   ],
   "source": [
    "value_1 = 9\n",
    "value_2 = 47\n",
    "print(\"Addition\", \"=\", value_1 + value_2)\n",
    "print(\"Multiplication\", \"=\", value_1 * value_2)\n",
    "print(\"Division\", \"=\", value_1 / value_2)\n",
    "print(\"Subtract\", \"=\", value_1 - value_2)\n"
   ]
  }
 ],
 "metadata": {
  "kernelspec": {
   "display_name": "base",
   "language": "python",
   "name": "python3"
  },
  "language_info": {
   "codemirror_mode": {
    "name": "ipython",
    "version": 3
   },
   "file_extension": ".py",
   "mimetype": "text/x-python",
   "name": "python",
   "nbconvert_exporter": "python",
   "pygments_lexer": "ipython3",
   "version": "3.12.7"
  }
 },
 "nbformat": 4,
 "nbformat_minor": 5
}
